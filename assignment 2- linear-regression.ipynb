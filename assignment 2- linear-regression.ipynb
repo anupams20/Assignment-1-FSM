{
 "cells": [
  {
   "cell_type": "code",
   "execution_count": 1,
   "id": "c2c4157f",
   "metadata": {
    "_cell_guid": "b1076dfc-b9ad-4769-8c92-a6c4dae69d19",
    "_uuid": "8f2839f25d086af736a60e9eeb907d3b93b6e0e5",
    "execution": {
     "iopub.execute_input": "2023-01-12T19:31:08.095076Z",
     "iopub.status.busy": "2023-01-12T19:31:08.093642Z",
     "iopub.status.idle": "2023-01-12T19:31:08.110524Z",
     "shell.execute_reply": "2023-01-12T19:31:08.108763Z"
    },
    "papermill": {
     "duration": 0.030786,
     "end_time": "2023-01-12T19:31:08.113682",
     "exception": false,
     "start_time": "2023-01-12T19:31:08.082896",
     "status": "completed"
    },
    "tags": []
   },
   "outputs": [],
   "source": [
    "#Importing the libraries needed for plotting\n",
    "import numpy as np\n",
    "import pandas as pd\n",
    "import matplotlib.pyplot as plt"
   ]
  },
  {
   "cell_type": "markdown",
   "id": "3bf4ea9e",
   "metadata": {
    "papermill": {
     "duration": 0.006694,
     "end_time": "2023-01-12T19:31:08.128014",
     "exception": false,
     "start_time": "2023-01-12T19:31:08.121320",
     "status": "completed"
    },
    "tags": []
   },
   "source": [
    "# **The Data Cleaning and Exploring**"
   ]
  },
  {
   "cell_type": "code",
   "execution_count": 2,
   "id": "7059bf05",
   "metadata": {
    "execution": {
     "iopub.execute_input": "2023-01-12T19:31:08.144125Z",
     "iopub.status.busy": "2023-01-12T19:31:08.143680Z",
     "iopub.status.idle": "2023-01-12T19:31:08.210459Z",
     "shell.execute_reply": "2023-01-12T19:31:08.209331Z"
    },
    "papermill": {
     "duration": 0.078973,
     "end_time": "2023-01-12T19:31:08.214138",
     "exception": false,
     "start_time": "2023-01-12T19:31:08.135165",
     "status": "completed"
    },
    "tags": []
   },
   "outputs": [
    {
     "name": "stdout",
     "output_type": "stream",
     "text": [
      "[28341469, 134966411, 534858444, 57300000, 4360000, 377845905, 107928762, 96898818, 292576195, 37030102, 315544750, 330252182, 6100000, 342551365, 171479930, 46836394, 290475067, 112000000, 53367844, 188020017, 7563397, 10055859, 216540909, 136801374, 57598247, 100125643, 130742922, 322740140, 269061, 335451311, 13092000, 13182281, 53089891, 132384315, 32572577, 187705427, 6719864, 23341568, 19501238, 422783777, 204843350, 11990401, 210609762, 5321508, 32000000, 1024560, 163245, 19181, 1661096, 5017246, 12391761, 190241310, 858373000, 678815482, 209726015, 162805434, 448139099, 6532908, 1223869, 223808164, 11286112, 707481, 25544867, 2375308, 5321508, 248159971, 44017374, 83471511, 78900000, 275902, 8175000, 36764313, 288475, 159227644, 1373943, 687185, 7098492, 6857096, 120540719, 34400301, 33225499, 30328156, 3635482, 130096601, 138433435, 933933, 191796233, 75600000, 2832029, 46357676, 85160248, 51973029, 45598982, 309125409, 11487676, 28262574, 159600000, 6207725, 56954992, 15000000, 44824144, 18600000, 13275000, 3200000, 8819028, 55240, 332930, 5720000, 1585634, 28877, 1236166, 5450000, 898575, 4186168, 85080171, 54513740, 342370, 20186659, 739478, 1429534, 144501, 1626289, 7461, 39567, 6391436, 13657115, 128012934, 293004164, 116900694, 1113541, 40222514, 37634615, 415004880, 70511035, 2197331, 733094, 206852432, 1223240, 5509040, 4711096, 170742341, 3897569, 64616940, 67436818, 42438300, 101157447, 197171806, 280015, 1105564, 83008852, 4135750, 23383987, 234723, 1229197, 12100000, 25000000, 57226, 12562, 96568, 10177, 5014000, 5450000, 977375, 3759854, 1241223, 2006788, 3492754, 901610, 226277068, 14677674, 3107072, 165520, 10616104, 923221, 59100318, 167767189, 67209615, 356461711, 2804874, 56671993, 26947624, 117624028, 45055776, 857524, 1035953, 3108485, 61002302, 154058340, 148095302, 381011219, 1498210, 217581231, 18354356, 74283625, 2217561, 100492203, 23530892, 1111061, 5820649, 14131, 300000, 70099045, 380843261, 164615351, 5383834, 289916256, 70147, 293506292, 259127, 125618201, 348660, 17498804, 2734044, 16501785, 24611975, 171082, 309811, 5535405, 4043686, 600200, 402453882, 25010410, 5216888, 2603061, 95860116, 52287414, 138530565, 2181987, 495770, 13782838, 22244207, 4971340, 32868943, 20045115, 48979328, 117235247, 177345, 29000000, 30933743, 1742348, 39481, 16217773, 102021, 55908, 4050000, 1526000, 74700000, 752045, 44908000, 9600000, 3969893, 449191, 10900000, 203300, 4360000, 9600000, 198676459, 172885, 4360000, 21877, 539540, 1033895, 8178001, 151101803, 51739495, 228433663, 341268248, 6738000, 1506975, 132422809, 5566534, 1079369, 1010414, 2625803, 91125683, 333176600, 92054159, 25568251, 216428042, 183637894, 17738570, 100119, 138797449, 169708112, 363070709, 106662, 10950, 4018695, 141319928, 106954678, 8060, 623279547, 4445756, 27298285, 163566459, 57366262, 227471070, 238507, 74103820, 5990075, 206445654, 167445960, 66208183, 502028, 2380788, 2086345, 61649911, 1787378, 169659, 305413918, 66257002, 261441092, 1530386, 1480006, 22455976, 4184036, 6203044, 776665, 1647780, 5595428, 23159305, 3296, 24475416, 13417292, 57141459, 515905, 75082668, 70906973, 4496583, 63895607, 217350219, 70405498, 218967620, 184208848, 27545445, 178800000, 553171, 30857814, 3333969, 4542825, 38400000, 52767889, 30177511, 39200000, 260000000, 50000000, 86300000, 53267000, 232906145, 4081254, 29133000, 80500000, 541940, 102308889, 33395426, 104945305, 163214286, 111722000, 14500000, 50690, 8284000, 19516000, 12535000, 11900000, 2237659, 17570324, 654000, 8000000, 4360000, 23650000, 2108060, 55000, 2076020, 3270000, 50970, 165359751, 3313513, 2000000, 18095701, 258168, 32015231, 5202582, 5875006, 3237118, 315058289, 32381218, 349555, 100546139, 936662225, 8114627, 233921534, 138730, 44671682, 100206256, 6739492, 7000000, 2084637, 5009677, 2122065, 115646235, 26236603, 410800, 25379975, 1185783, 257730019, 7757130, 13756082, 2280348, 124987023, 21002919, 3635164, 318412101, 13542874, 90135191, 249358727, 53710019, 9284265, 1059830, 1000045, 121661683, 1221261, 35552383, 32534850, 7220243, 245852179, 26400640, 2201126, 12281500, 1324974, 36948322, 56362352, 14743391, 18254702, 76270454, 40084041, 9929135, 188751, 20605209, 57229890, 45700000, 37823676, 5100000, 70600000, 61001, 198809, 61700000, 12064472, 89029, 22276975, 24379978, 13474588, 30000000, 88300, 93740000, 9450000, 7630000, 2650000, 10464000, 6540000, 9460000, 296000, 3981000, 2537520, 10000000, 2402067, 188373161, 169607287, 40442052, 48023088, 1782795, 47695120, 435266, 532177324, 408084349, 54117416, 108101214, 6735118, 1330596, 2852400, 4231500, 169209, 222527828, 15322921, 1670773, 5209580, 434038008, 85433, 45512466, 177002924, 70259870, 128392, 102515793, 107100855, 6460, 161197785, 547292, 258366855, 2222647, 10095170, 93617009, 145000989, 9030581, 9439923, 303003568, 741283, 50927067, 35061555, 130164645, 760507625, 3600, 50866635, 59891098, 23637265, 127509326, 2921738, 1305, 38405088, 5128124, 128985, 25514517, 119519402, 15280, 81001787, 16756372, 181655, 7002255, 54234062, 2892011, 115654751, 128078872, 8264530, 233632142, 25812, 28965197, 32481825, 267665011, 659325379, 233986, 12339633, 48323648, 4040691, 5887457, 9170214, 56505065, 32416586, 22954968, 1769305, 183875760, 17266971, 5617391, 2015810, 1999955, 57504069, 61276872, 52096475, 26830000, 118500000, 34603943, 59735548, 5923044, 70136369, 1436000, 61503218, 98467863, 45875171, 34700291, 238632124, 21500000, 2500000, 435110554, 106260000, 31800000, 4420000, 193817, 16056255, 42765000, 4000000, 44785053, 17550741, 56700000, 72000000, 102272727, 39100000, 2616000, 336705, 4360000, 335609, 324591735, 33800859, 176040665, 220159104, 3358518, 3333000, 765127, 35893537, 128261724, 124872350, 6743776, 42340598, 2199675, 1122527, 175058, 259766572, 985912, 17654912, 189422889, 1339152, 71177, 56816662, 257760692, 274092705, 228778661, 83861, 96962694, 146408305, 277322503, 304360277, 132092958, 136025503, 32391374, 295983305, 15090400, 18593156, 881302, 35739802, 1752214, 327919, 25442958, 412544, 17605861, 33080084, 22494487, 1054361, 871577, 200821936, 4398392, 83043761, 53606916, 54580300, 17108591, 176241941, 1082715, 75331600, 44585453, 290013036, 77911774, 75286229, 111110575, 4890878, 4064200, 15539266, 40311852, 22245861, 108638745, 104454762, 141072, 21995263, 3029081, 183417150, 151086, 45512588, 52037603, 10824921, 2807390, 76631907, 17105219, 368234, 22858926, 148478011, 63540020, 4065116, 41909762, 35811509, 56116183, 4414535, 10019307, 21848932, 3151130, 6110979, 77324422, 27281507, 48169908, 75505856, 10725228, 141340178, 82418501, 6153939, 5080409, 156452370, 1544889, 43984230, 22238696, 7153487, 8551228, 10631333, 10600000, 11798616, 54000000, 78912963, 47212904, 54800000, 83400000, 47000000, 1924733, 119500000, 29800000, 25000000, 7056013, 15630710, 35900000, 44527234, 45300000, 26331, 28350000, 51081062, 11403529, 83957, 4905000, 52709, 10550000, 536118, 76408097, 26020957, 142502728, 566356, 5904366, 24801212, 13122642, 845464, 389813101, 107825862, 18340051, 72313754, 608581744, 248757044, 46889293, 109767581, 1092800, 26862450, 37707719, 208545589, 4105123, 41003371, 19202743, 215288866, 171243005, 1008098, 251513985, 35014192, 48071303, 75605492, 3185812, 75590286, 209028679, 255959475, 9422422, 69951824, 17114882, 38634938, 686383, 88513495, 20300218, 10301706, 24633730, 39868642, 6013, 301959197, 210614939, 23089926, 107509799, 24149632, 56000369, 3081925, 697181, 548707, 6167817, 5739376, 16290476, 45289, 51680613, 13060843, 57938693, 45064915, 52364010, 13622333, 317575550, 96522687, 52990775, 51401758, 132072926, 50668906, 15070285, 7267585, 36400491, 120620254, 10680275, 14378331, 49100000, 3796699, 43182776, 100012499, 1037847, 71516617, 173837933, 1464625, 40903593, 7993039, 52929168, 453243, 1794187, 285761243, 66666062, 92823600, 111543479, 78756177, 49530280, 65207127, 2150000, 119285432, 12465371, 22490039, 76657000, 43000000, 35000000, 132088635, 959000, 696690, 1378435, 141843612, 13780024, 30500000]\n"
     ]
    },
    {
     "data": {
      "text/plain": [
       "831"
      ]
     },
     "execution_count": 2,
     "metadata": {},
     "output_type": "execute_result"
    }
   ],
   "source": [
    "#getting the data from the csv\n",
    "imdb_data = \"../input/imdb-dataset-of-top-1000-movies-and-tv-shows/imdb_top_1000.csv\"\n",
    "df = pd.read_csv(imdb_data)\n",
    "\n",
    "# Changing gross from floats into integers\n",
    "gross = list(df['Gross'])\n",
    "\n",
    "string_list = []\n",
    "for i in gross:\n",
    "    string_list.append(str(i))\n",
    "#Removing the nan values that mess up graphs    \n",
    "clean_data = []\n",
    "listofgoodindexes = []\n",
    "for i in range(len(string_list)):\n",
    "    if string_list[i] != \"nan\":\n",
    "        listofgoodindexes.append(i)\n",
    "        if \",\" in string_list[i]:\n",
    "            string_list[i]=string_list[i].replace(\",\", \"\")\n",
    "            clean_data.append(int(string_list[i]))\n",
    "        else:\n",
    "            clean_data.append(int(string_list[i]))\n",
    "\n",
    "print(clean_data)\n",
    "#finding the length of the data to see if it matches with the other data\n",
    "len(clean_data)"
   ]
  },
  {
   "cell_type": "code",
   "execution_count": 3,
   "id": "ec543c11",
   "metadata": {
    "execution": {
     "iopub.execute_input": "2023-01-12T19:31:08.255619Z",
     "iopub.status.busy": "2023-01-12T19:31:08.254796Z",
     "iopub.status.idle": "2023-01-12T19:31:08.266951Z",
     "shell.execute_reply": "2023-01-12T19:31:08.265599Z"
    },
    "papermill": {
     "duration": 0.023092,
     "end_time": "2023-01-12T19:31:08.269933",
     "exception": false,
     "start_time": "2023-01-12T19:31:08.246841",
     "status": "completed"
    },
    "tags": []
   },
   "outputs": [
    {
     "name": "stdout",
     "output_type": "stream",
     "text": [
      "[9.3, 9.2, 9.0, 9.0, 9.0, 8.9, 8.9, 8.9, 8.8, 8.8, 8.8, 8.8, 8.8, 8.7, 8.7, 8.7, 8.7, 8.7, 8.6, 8.6, 8.6, 8.6, 8.6, 8.6, 8.6, 8.6, 8.6, 8.6, 8.6, 8.5, 8.5, 8.5, 8.5, 8.5, 8.5, 8.5, 8.5, 8.5, 8.5, 8.5, 8.5, 8.5, 8.5, 8.5, 8.5, 8.5, 8.5, 8.5, 8.4, 8.4, 8.4, 8.4, 8.4, 8.4, 8.4, 8.4, 8.4, 8.4, 8.4, 8.4, 8.4, 8.4, 8.4, 8.4, 8.4, 8.4, 8.4, 8.4, 8.4, 8.4, 8.4, 8.4, 8.4, 8.3, 8.3, 8.3, 8.3, 8.3, 8.3, 8.3, 8.3, 8.3, 8.3, 8.3, 8.3, 8.3, 8.3, 8.3, 8.3, 8.3, 8.3, 8.3, 8.3, 8.3, 8.3, 8.3, 8.3, 8.3, 8.3, 8.3, 8.3, 8.3, 8.3, 8.3, 8.3, 8.3, 8.3, 8.3, 8.3, 8.3, 8.3, 8.3, 8.2, 8.2, 8.2, 8.2, 8.2, 8.2, 8.2, 8.2, 8.2, 8.2, 8.2, 8.2, 8.2, 8.2, 8.2, 8.2, 8.2, 8.2, 8.2, 8.2, 8.2, 8.2, 8.2, 8.2, 8.2, 8.2, 8.2, 8.2, 8.2, 8.2, 8.2, 8.2, 8.2, 8.2, 8.2, 8.2, 8.2, 8.2, 8.2, 8.2, 8.2, 8.2, 8.2, 8.2, 8.2, 8.2, 8.2, 8.2, 8.2, 8.2, 8.2, 8.1, 8.1, 8.1, 8.1, 8.1, 8.1, 8.1, 8.1, 8.1, 8.1, 8.1, 8.1, 8.1, 8.1, 8.1, 8.1, 8.1, 8.1, 8.1, 8.1, 8.1, 8.1, 8.1, 8.1, 8.1, 8.1, 8.1, 8.1, 8.1, 8.1, 8.1, 8.1, 8.1, 8.1, 8.1, 8.1, 8.1, 8.1, 8.1, 8.1, 8.1, 8.1, 8.1, 8.1, 8.1, 8.1, 8.1, 8.1, 8.1, 8.1, 8.1, 8.1, 8.1, 8.1, 8.1, 8.1, 8.1, 8.1, 8.1, 8.1, 8.1, 8.1, 8.1, 8.1, 8.1, 8.1, 8.1, 8.1, 8.1, 8.1, 8.1, 8.1, 8.1, 8.1, 8.1, 8.1, 8.1, 8.1, 8.1, 8.1, 8.1, 8.1, 8.1, 8.1, 8.1, 8.1, 8.1, 8.1, 8.1, 8.1, 8.1, 8.1, 8.1, 8.1, 8.1, 8.1, 8.1, 8.1, 8.1, 8.0, 8.0, 8.0, 8.0, 8.0, 8.0, 8.0, 8.0, 8.0, 8.0, 8.0, 8.0, 8.0, 8.0, 8.0, 8.0, 8.0, 8.0, 8.0, 8.0, 8.0, 8.0, 8.0, 8.0, 8.0, 8.0, 8.0, 8.0, 8.0, 8.0, 8.0, 8.0, 8.0, 8.0, 8.0, 8.0, 8.0, 8.0, 8.0, 8.0, 8.0, 8.0, 8.0, 8.0, 8.0, 8.0, 8.0, 8.0, 8.0, 8.0, 8.0, 8.0, 8.0, 8.0, 8.0, 8.0, 8.0, 8.0, 8.0, 8.0, 8.0, 8.0, 8.0, 8.0, 8.0, 8.0, 8.0, 8.0, 8.0, 8.0, 8.0, 8.0, 8.0, 8.0, 8.0, 8.0, 8.0, 8.0, 8.0, 8.0, 8.0, 8.0, 8.0, 8.0, 8.0, 8.0, 8.0, 8.0, 8.0, 8.0, 8.0, 8.0, 8.0, 8.0, 8.0, 8.0, 8.0, 8.0, 8.0, 8.0, 8.0, 8.0, 8.0, 8.0, 8.0, 8.0, 8.0, 8.0, 8.0, 8.0, 8.0, 8.0, 8.0, 7.9, 7.9, 7.9, 7.9, 7.9, 7.9, 7.9, 7.9, 7.9, 7.9, 7.9, 7.9, 7.9, 7.9, 7.9, 7.9, 7.9, 7.9, 7.9, 7.9, 7.9, 7.9, 7.9, 7.9, 7.9, 7.9, 7.9, 7.9, 7.9, 7.9, 7.9, 7.9, 7.9, 7.9, 7.9, 7.9, 7.9, 7.9, 7.9, 7.9, 7.9, 7.9, 7.9, 7.9, 7.9, 7.9, 7.9, 7.9, 7.9, 7.9, 7.9, 7.9, 7.9, 7.9, 7.9, 7.9, 7.9, 7.9, 7.9, 7.9, 7.9, 7.9, 7.9, 7.9, 7.9, 7.9, 7.9, 7.9, 7.9, 7.9, 7.9, 7.9, 7.9, 7.9, 7.9, 7.9, 7.9, 7.9, 7.9, 7.9, 7.9, 7.9, 7.9, 7.9, 7.9, 7.9, 7.9, 7.9, 7.9, 7.8, 7.8, 7.8, 7.8, 7.8, 7.8, 7.8, 7.8, 7.8, 7.8, 7.8, 7.8, 7.8, 7.8, 7.8, 7.8, 7.8, 7.8, 7.8, 7.8, 7.8, 7.8, 7.8, 7.8, 7.8, 7.8, 7.8, 7.8, 7.8, 7.8, 7.8, 7.8, 7.8, 7.8, 7.8, 7.8, 7.8, 7.8, 7.8, 7.8, 7.8, 7.8, 7.8, 7.8, 7.8, 7.8, 7.8, 7.8, 7.8, 7.8, 7.8, 7.8, 7.8, 7.8, 7.8, 7.8, 7.8, 7.8, 7.8, 7.8, 7.8, 7.8, 7.8, 7.8, 7.8, 7.8, 7.8, 7.8, 7.8, 7.8, 7.8, 7.8, 7.8, 7.8, 7.8, 7.8, 7.8, 7.8, 7.8, 7.8, 7.8, 7.8, 7.8, 7.8, 7.8, 7.8, 7.8, 7.8, 7.8, 7.8, 7.8, 7.8, 7.8, 7.8, 7.8, 7.8, 7.8, 7.8, 7.8, 7.8, 7.8, 7.8, 7.8, 7.8, 7.8, 7.8, 7.8, 7.8, 7.8, 7.8, 7.8, 7.8, 7.8, 7.8, 7.8, 7.8, 7.8, 7.8, 7.8, 7.8, 7.8, 7.8, 7.7, 7.7, 7.7, 7.7, 7.7, 7.7, 7.7, 7.7, 7.7, 7.7, 7.7, 7.7, 7.7, 7.7, 7.7, 7.7, 7.7, 7.7, 7.7, 7.7, 7.7, 7.7, 7.7, 7.7, 7.7, 7.7, 7.7, 7.7, 7.7, 7.7, 7.7, 7.7, 7.7, 7.7, 7.7, 7.7, 7.7, 7.7, 7.7, 7.7, 7.7, 7.7, 7.7, 7.7, 7.7, 7.7, 7.7, 7.7, 7.7, 7.7, 7.7, 7.7, 7.7, 7.7, 7.7, 7.7, 7.7, 7.7, 7.7, 7.7, 7.7, 7.7, 7.7, 7.7, 7.7, 7.7, 7.7, 7.7, 7.7, 7.7, 7.7, 7.7, 7.7, 7.7, 7.7, 7.7, 7.7, 7.7, 7.7, 7.7, 7.7, 7.7, 7.7, 7.7, 7.7, 7.7, 7.7, 7.7, 7.7, 7.7, 7.7, 7.7, 7.7, 7.7, 7.7, 7.7, 7.7, 7.7, 7.7, 7.7, 7.7, 7.7, 7.7, 7.7, 7.7, 7.7, 7.7, 7.7, 7.7, 7.7, 7.7, 7.7, 7.7, 7.7, 7.7, 7.7, 7.7, 7.7, 7.7, 7.7, 7.7, 7.7, 7.7, 7.7, 7.7, 7.7, 7.7, 7.7, 7.7, 7.7, 7.7, 7.7, 7.7, 7.7, 7.7, 7.7, 7.6, 7.6, 7.6, 7.6, 7.6, 7.6, 7.6, 7.6, 7.6, 7.6, 7.6, 7.6, 7.6, 7.6, 7.6, 7.6, 7.6, 7.6, 7.6, 7.6, 7.6, 7.6, 7.6, 7.6, 7.6, 7.6, 7.6, 7.6, 7.6, 7.6, 7.6, 7.6, 7.6, 7.6, 7.6, 7.6, 7.6, 7.6, 7.6, 7.6, 7.6, 7.6, 7.6, 7.6, 7.6, 7.6, 7.6, 7.6, 7.6, 7.6, 7.6, 7.6, 7.6, 7.6, 7.6, 7.6, 7.6, 7.6, 7.6, 7.6, 7.6, 7.6, 7.6, 7.6, 7.6, 7.6, 7.6, 7.6, 7.6, 7.6, 7.6, 7.6, 7.6, 7.6, 7.6, 7.6, 7.6, 7.6, 7.6, 7.6, 7.6, 7.6, 7.6, 7.6, 7.6, 7.6, 7.6, 7.6, 7.6, 7.6, 7.6, 7.6, 7.6, 7.6, 7.6, 7.6, 7.6, 7.6, 7.6, 7.6, 7.6, 7.6, 7.6, 7.6, 7.6, 7.6, 7.6, 7.6, 7.6]\n"
     ]
    },
    {
     "data": {
      "text/plain": [
       "831"
      ]
     },
     "execution_count": 3,
     "metadata": {},
     "output_type": "execute_result"
    }
   ],
   "source": [
    "#Changing Ratings into Integers\n",
    "\n",
    "ratings = list(df[\"IMDB_Rating\"])\n",
    "ratingsclean = list(float(i) for i in ratings)\n",
    "ratingstocompare = [] \n",
    "for i in listofgoodindexes:\n",
    "    ratingstocompare.append(ratingsclean[i])\n",
    "\n",
    "print(ratingstocompare)\n",
    "#finding the length of the data to compare it to the other data\n",
    "len(ratingstocompare)"
   ]
  },
  {
   "cell_type": "code",
   "execution_count": 4,
   "id": "5656f366",
   "metadata": {
    "execution": {
     "iopub.execute_input": "2023-01-12T19:31:08.301313Z",
     "iopub.status.busy": "2023-01-12T19:31:08.300873Z",
     "iopub.status.idle": "2023-01-12T19:31:08.558397Z",
     "shell.execute_reply": "2023-01-12T19:31:08.556917Z"
    },
    "papermill": {
     "duration": 0.270254,
     "end_time": "2023-01-12T19:31:08.561049",
     "exception": false,
     "start_time": "2023-01-12T19:31:08.290795",
     "status": "completed"
    },
    "tags": []
   },
   "outputs": [
    {
     "data": {
      "text/plain": [
       "Text(0.5, 1.0, 'IMDB Rating to Gross')"
      ]
     },
     "execution_count": 4,
     "metadata": {},
     "output_type": "execute_result"
    },
    {
     "data": {
      "image/png": "[encoded data removed]",
      "text/plain": [
       "<Figure size 432x288 with 1 Axes>"
      ]
     },
     "metadata": {
      "needs_background": "light"
     },
     "output_type": "display_data"
    }
   ],
   "source": [
    "#Plotting a Graph that shows how the IMDB ratings of a movie line up with its gross\n",
    "plt.scatter(ratingstocompare, clean_data)\n",
    "plt.xlim(7.5, 9.5)\n",
    "plt.ylim(0, 1000000000)\n",
    "plt.xlabel('IMDB rating')\n",
    "plt.ylabel('Gross in 1*10^9')\n",
    "plt.title('IMDB Rating to Gross')"
   ]
  },
  {
   "cell_type": "code",
   "execution_count": 5,
   "id": "d7f4621f",
   "metadata": {
    "_kg_hide-input": true,
    "execution": {
     "iopub.execute_input": "2023-01-12T19:31:08.604906Z",
     "iopub.status.busy": "2023-01-12T19:31:08.604457Z",
     "iopub.status.idle": "2023-01-12T19:31:08.614939Z",
     "shell.execute_reply": "2023-01-12T19:31:08.613460Z"
    },
    "papermill": {
     "duration": 0.021156,
     "end_time": "2023-01-12T19:31:08.617357",
     "exception": false,
     "start_time": "2023-01-12T19:31:08.596201",
     "status": "completed"
    },
    "tags": []
   },
   "outputs": [
    {
     "name": "stdout",
     "output_type": "stream",
     "text": [
      "[80.0, 100.0, 84.0, 90.0, 96.0, 94.0, 94.0, 94.0, 74.0, 66.0, 92.0, 82.0, 90.0, 87.0, 73.0, 90.0, 82.0, 83.0, 96.0, 74.0, 79.0, 96.0, 91.0, 61.0, 59.0, 65.0, 85.0, 90.0, 98.0, 59.0, 88.0, 57.0, 66.0, 85.0, 85.0, 67.0, 62.0, 77.0, 64.0, 88.0, 75.0, 80.0, 87.0, 80.0, 97.0, 100.0, 96.0, 99.0, 75.0, 79.0, nan, 87.0, 78.0, 68.0, 81.0, 81.0, 78.0, 67.0, nan, 95.0, 89.0, 77.0, 80.0, 76.0, nan, 85.0, 66.0, 94.0, 89.0, 97.0, nan, 100.0, nan, 78.0, nan, 77.0, 95.0, 80.0, 69.0, 89.0, 69.0, 55.0, 68.0, 84.0, 70.0, 77.0, 95.0, 68.0, 79.0, 76.0, 84.0, 88.0, 65.0, 58.0, 86.0, 94.0, 83.0, 77.0, 84.0, 74.0, 100.0, 94.0, 98.0, 100.0, 99.0, nan, nan, 95.0, 100.0, nan, 98.0, nan, nan, nan, 69.0, 88.0, nan, nan, nan, nan, 73.0, nan, nan, nan, 80.0, 71.0, 63.0, 88.0, 75.0, 68.0, 93.0, 98.0, 92.0, 62.0, nan, nan, 70.0, nan, 82.0, 80.0, 72.0, 66.0, 90.0, 76.0, 73.0, 85.0, 65.0, nan, 86.0, 72.0, 96.0, 89.0, nan, 91.0, 86.0, 98.0, 97.0, 75.0, 98.0, 98.0, 98.0, nan, nan, 95.0, nan, 84.0, 74.0, nan, 77.0, 86.0, 77.0, 88.0, nan, nan, 88.0, 79.0, 71.0, 94.0, nan, 96.0, 74.0, 81.0, 93.0, 85.0, nan, nan, 70.0, 90.0, 72.0, 85.0, 68.0, 75.0, 73.0, 91.0, nan, 86.0, 79.0, 64.0, 90.0, 82.0, nan, 69.0, 90.0, 75.0, 83.0, 79.0, 84.0, 64.0, 58.0, 90.0, 73.0, 71.0, 85.0, 83.0, 85.0, nan, nan, 77.0, 100.0, 77.0, 68.0, 84.0, nan, nan, 79.0, 75.0, 92.0, 78.0, 86.0, 57.0, 47.0, 100.0, 84.0, 77.0, 86.0, 70.0, nan, 92.0, 77.0, nan, nan, 92.0, nan, 96.0, 75.0, nan, 90.0, nan, 87.0, 91.0, 72.0, 97.0, nan, 96.0, 86.0, 73.0, 97.0, nan, 87.0, nan, nan, nan, nan, 94.0, 69.0, 80.0, 78.0, nan, 89.0, 66.0, 65.0, nan, 82.0, 71.0, 73.0, 76.0, 81.0, 90.0, 49.0, 76.0, 67.0, 71.0, 88.0, 62.0, 65.0, 87.0, nan, 50.0, 84.0, 79.0, 33.0, 69.0, 90.0, 80.0, 64.0, 64.0, 85.0, 72.0, 74.0, 92.0, 96.0, 80.0, 83.0, 82.0, 85.0, 74.0, 69.0, 54.0, 75.0, 63.0, 58.0, 90.0, 60.0, 88.0, 77.0, 61.0, 86.0, nan, 82.0, 80.0, 85.0, nan, 84.0, 91.0, 74.0, 76.0, 82.0, 72.0, 47.0, 59.0, 86.0, 72.0, 95.0, 72.0, 93.0, 65.0, nan, 77.0, 79.0, 88.0, 84.0, 79.0, 83.0, 92.0, 87.0, 86.0, 80.0, 58.0, 81.0, nan, 93.0, 67.0, 100.0, 66.0, 79.0, 83.0, 63.0, 69.0, 65.0, 91.0, 90.0, 95.0, 93.0, 95.0, 99.0, 84.0, 99.0, 97.0, nan, 93.0, 96.0, 96.0, 92.0, 91.0, 97.0, 82.0, 93.0, 94.0, 93.0, 78.0, 82.0, 81.0, 72.0, 79.0, 74.0, 76.0, 58.0, 81.0, 80.0, 94.0, 75.0, 82.0, 89.0, 71.0, 94.0, 94.0, 90.0, 67.0, 82.0, 81.0, 80.0, nan, 100.0, 97.0, 82.0, 67.0, 89.0, 64.0, 79.0, 83.0, 56.0, 79.0, 76.0, 84.0, 82.0, 85.0, 86.0, 84.0, 61.0, 68.0, 80.0, 84.0, 90.0, 85.0, 88.0, 85.0, 77.0, 59.0, 85.0, 65.0, 74.0, 97.0, 77.0, 79.0, 90.0, 84.0, 92.0, 77.0, 60.0, 83.0, 72.0, 71.0, 84.0, 76.0, 93.0, 91.0, 97.0, 89.0, nan, 75.0, 83.0, 87.0, nan, nan, 89.0, 88.0, 88.0, 100.0, nan, nan, nan, 97.0, nan, 90.0, 85.0, 94.0, 74.0, 88.0, 84.0, nan, 96.0, 75.0, 65.0, 75.0, 68.0, 91.0, 62.0, 85.0, 86.0, 76.0, nan, 74.0, 55.0, nan, 83.0, 84.0, 49.0, 84.0, 76.0, 81.0, 67.0, 71.0, 82.0, nan, 72.0, 79.0, 66.0, 82.0, 76.0, 79.0, 51.0, 55.0, 88.0, 58.0, 85.0, 85.0, 78.0, 76.0, 83.0, 63.0, 68.0, 80.0, 81.0, 70.0, 67.0, 51.0, 82.0, 68.0, 73.0, 74.0, 72.0, 61.0, 53.0, 75.0, 82.0, 91.0, 61.0, 83.0, 48.0, 94.0, 87.0, 73.0, 44.0, 84.0, 71.0, 84.0, 75.0, nan, 64.0, 61.0, 76.0, 70.0, 73.0, 50.0, 55.0, 84.0, 84.0, 87.0, 80.0, nan, 68.0, 86.0, 76.0, 75.0, 74.0, 78.0, 57.0, 65.0, 45.0, 72.0, 61.0, 75.0, 62.0, 78.0, 66.0, 76.0, 71.0, 91.0, 73.0, 91.0, 77.0, 69.0, 85.0, 73.0, 80.0, 80.0, 67.0, 79.0, 81.0, 63.0, 95.0, 88.0, 75.0, 88.0, nan, 95.0, 85.0, 66.0, 73.0, 85.0, 86.0, 70.0, 76.0, 72.0, 72.0, 60.0, 69.0, 74.0, 87.0, 89.0, 40.0, 70.0, 70.0, nan, 87.0, 72.0, 70.0, 52.0, 81.0, 83.0, 96.0, 72.0, 79.0, 95.0, 65.0, 73.0, 81.0, 81.0, 86.0, 76.0, 65.0, 86.0, 80.0, 81.0, 63.0, 45.0, 86.0, 78.0, 78.0, 74.0, 78.0, 53.0, 70.0, 78.0, 71.0, 71.0, 87.0, 76.0, 66.0, 78.0, 73.0, 61.0, 73.0, 89.0, 81.0, 47.0, 80.0, 55.0, 83.0, 68.0, 76.0, 28.0, 83.0, 74.0, 72.0, 60.0, 74.0, 85.0, 74.0, 62.0, 69.0, 73.0, 68.0, 81.0, 69.0, 86.0, nan, 90.0, 67.0, 52.0, 73.0, 76.0, 87.0, 47.0, nan, 83.0, 81.0, 70.0, 79.0, 66.0, 64.0, 73.0, 76.0, 82.0, 62.0, 64.0, 69.0, 66.0, 83.0, 84.0, 76.0, 62.0, 54.0, 76.0, 75.0, 90.0, nan, 77.0, 67.0, 61.0, 86.0, 78.0, 87.0, 71.0, 73.0, 87.0, 83.0, 80.0, 94.0, 90.0, 86.0, 73.0, nan, 72.0, 87.0, 90.0, nan, 74.0, 90.0, nan, 91.0, 96.0, 71.0, 83.0, 86.0, 92.0, 60.0, 70.0, 83.0, 67.0, 86.0, 72.0, 81.0, 80.0, 81.0, 82.0, 82.0, 92.0, 88.0, 77.0, 79.0, 73.0, 68.0, 80.0, 88.0, 80.0, 65.0, 72.0, 72.0, 66.0, 87.0, 70.0, 73.0, 57.0, 53.0, 79.0, 36.0, 82.0, 66.0, 81.0, 76.0, 72.0, 66.0, 70.0, 68.0, 52.0, 78.0, 52.0, 72.0, 56.0, 62.0, 46.0, 67.0, 73.0, 45.0, 76.0, 81.0, 70.0, 56.0, 67.0, 68.0, 30.0, 73.0, 76.0, 88.0, 64.0, 74.0, 52.0, 53.0, 80.0, 74.0, 64.0, 77.0, 78.0, 71.0, 41.0, 66.0, 49.0, 52.0, 84.0, 58.0, 62.0, 69.0, 77.0, 88.0, 56.0, 78.0, 68.0, 90.0, 66.0, 63.0, 60.0, 76.0, 88.0, 76.0, 72.0, 68.0, 82.0, 68.0, 77.0, 65.0, 74.0, 76.0, 59.0, 90.0, 87.0, 77.0, 50.0, 65.0, 96.0, 85.0]\n"
     ]
    },
    {
     "data": {
      "text/plain": [
       "831"
      ]
     },
     "execution_count": 5,
     "metadata": {},
     "output_type": "execute_result"
    }
   ],
   "source": [
    "#Changing the Metascore into integers\n",
    "\n",
    "metascore = list(df[\"Meta_score\"])\n",
    "meta_clean = list(float(i) for i in metascore)\n",
    "meta_score = []\n",
    "for i in listofgoodindexes:\n",
    "    meta_score.append(meta_clean[i])\n",
    "print(meta_score)\n",
    "#finding the length of the data to compare\n",
    "len(meta_score)"
   ]
  },
  {
   "cell_type": "code",
   "execution_count": 6,
   "id": "305cdc23",
   "metadata": {
    "execution": {
     "iopub.execute_input": "2023-01-12T19:31:08.661268Z",
     "iopub.status.busy": "2023-01-12T19:31:08.660530Z",
     "iopub.status.idle": "2023-01-12T19:31:08.852617Z",
     "shell.execute_reply": "2023-01-12T19:31:08.851371Z"
    },
    "papermill": {
     "duration": 0.203235,
     "end_time": "2023-01-12T19:31:08.855408",
     "exception": false,
     "start_time": "2023-01-12T19:31:08.652173",
     "status": "completed"
    },
    "tags": []
   },
   "outputs": [
    {
     "data": {
      "text/plain": [
       "Text(0.5, 1.0, 'Gross of a Movie Compared to Metascore')"
      ]
     },
     "execution_count": 6,
     "metadata": {},
     "output_type": "execute_result"
    },
    {
     "data": {
      "image/png": "[encoded data removed]",
      "text/plain": [
       "<Figure size 432x288 with 1 Axes>"
      ]
     },
     "metadata": {
      "needs_background": "light"
     },
     "output_type": "display_data"
    }
   ],
   "source": [
    "#Plotting a Graph about how the metascore and gross line up\n",
    "plt.scatter(meta_score, clean_data)\n",
    "plt.xlim(25, 100)\n",
    "plt.ylim(0, 1000000000)\n",
    "plt.xlabel('Metascore')\n",
    "plt.ylabel('Gross in 1 * 10^9')\n",
    "plt.title('Gross of a Movie Compared to Metascore')"
   ]
  },
  {
   "cell_type": "code",
   "execution_count": 7,
   "id": "a70cb8bd",
   "metadata": {
    "execution": {
     "iopub.execute_input": "2023-01-12T19:31:08.887928Z",
     "iopub.status.busy": "2023-01-12T19:31:08.887533Z",
     "iopub.status.idle": "2023-01-12T19:31:09.093815Z",
     "shell.execute_reply": "2023-01-12T19:31:09.092517Z"
    },
    "papermill": {
     "duration": 0.218971,
     "end_time": "2023-01-12T19:31:09.097286",
     "exception": false,
     "start_time": "2023-01-12T19:31:08.878315",
     "status": "completed"
    },
    "tags": []
   },
   "outputs": [
    {
     "data": {
      "text/plain": [
       "Text(0.5, 1.0, 'Metascore vs IMDB')"
      ]
     },
     "execution_count": 7,
     "metadata": {},
     "output_type": "execute_result"
    },
    {
     "data": {
      "image/png": "[encoded data removed]",
      "text/plain": [
       "<Figure size 432x288 with 1 Axes>"
      ]
     },
     "metadata": {
      "needs_background": "light"
     },
     "output_type": "display_data"
    }
   ],
   "source": [
    "#Comparing Metascore, which is more critics, and IMDB ratings, which have normal people involved with rating along with critics\n",
    "plt.scatter(ratingstocompare, meta_score)\n",
    "plt.xlim(7.5, 9.5)\n",
    "plt.ylim(25, 105)\n",
    "plt.xlabel('IMDB rating')\n",
    "plt.ylabel('Metascore')\n",
    "plt.title('Metascore vs IMDB')\n"
   ]
  },
  {
   "cell_type": "markdown",
   "id": "d293ae66",
   "metadata": {
    "papermill": {
     "duration": 0.007425,
     "end_time": "2023-01-12T19:31:09.128046",
     "exception": false,
     "start_time": "2023-01-12T19:31:09.120621",
     "status": "completed"
    },
    "tags": []
   },
   "source": [
    "# **Linear Regression**"
   ]
  },
  {
   "cell_type": "code",
   "execution_count": 8,
   "id": "b1ef3830",
   "metadata": {
    "execution": {
     "iopub.execute_input": "2023-01-12T19:31:09.146261Z",
     "iopub.status.busy": "2023-01-12T19:31:09.145193Z",
     "iopub.status.idle": "2023-01-12T19:31:10.458298Z",
     "shell.execute_reply": "2023-01-12T19:31:10.456913Z"
    },
    "papermill": {
     "duration": 1.325138,
     "end_time": "2023-01-12T19:31:10.461076",
     "exception": false,
     "start_time": "2023-01-12T19:31:09.135938",
     "status": "completed"
    },
    "tags": []
   },
   "outputs": [],
   "source": [
    "#importing the things you need for linear regression\n",
    "from sklearn.linear_model import LinearRegression\n",
    "from sklearn.model_selection import train_test_split\n",
    "from scipy.stats import boxcox\n",
    "from sklearn import metrics"
   ]
  },
  {
   "cell_type": "code",
   "execution_count": 9,
   "id": "c183a137",
   "metadata": {
    "execution": {
     "iopub.execute_input": "2023-01-12T19:31:10.479431Z",
     "iopub.status.busy": "2023-01-12T19:31:10.478970Z",
     "iopub.status.idle": "2023-01-12T19:31:10.507608Z",
     "shell.execute_reply": "2023-01-12T19:31:10.506570Z"
    },
    "papermill": {
     "duration": 0.04067,
     "end_time": "2023-01-12T19:31:10.510142",
     "exception": false,
     "start_time": "2023-01-12T19:31:10.469472",
     "status": "completed"
    },
    "scrolled": true,
    "tags": []
   },
   "outputs": [
    {
     "name": "stdout",
     "output_type": "stream",
     "text": [
      "intercept (m) -226852894.2452951\n",
      "coef (b) [36995789.50982447]\n",
      "RScore. (r) 0.008873064619353443\n",
      "MAE: 72377709.72108367\n"
     ]
    }
   ],
   "source": [
    "#the np.array turns the list into arrays since you can't reshape a python list for whatever reason\n",
    "X = np.array(ratingstocompare).reshape(-1,1)\n",
    "y = clean_data\n",
    "#splitting the data between a train and test set\n",
    "X_train, X_test, y_train, y_test = train_test_split(X, y, test_size=0.3, random_state=1)\n",
    "lin_reg = LinearRegression()\n",
    "model = lin_reg.fit(X_train,y_train)\n",
    "predictions = lin_reg.predict(X_test)\n",
    "#printing the intercept, coef, RScore, and mean absolute error \n",
    "print(\"intercept (m)\", model.intercept_)\n",
    "print(\"coef (b)\", model.coef_)\n",
    "print(\"RScore. (r)\", model.score(X_test, y_test))\n",
    "print('MAE:', metrics.mean_absolute_error(y_test, predictions))"
   ]
  },
  {
   "cell_type": "code",
   "execution_count": 10,
   "id": "56feaf54",
   "metadata": {
    "execution": {
     "iopub.execute_input": "2023-01-12T19:31:10.560607Z",
     "iopub.status.busy": "2023-01-12T19:31:10.560195Z",
     "iopub.status.idle": "2023-01-12T19:31:10.582124Z",
     "shell.execute_reply": "2023-01-12T19:31:10.580661Z"
    },
    "papermill": {
     "duration": 0.034206,
     "end_time": "2023-01-12T19:31:10.584704",
     "exception": false,
     "start_time": "2023-01-12T19:31:10.550498",
     "status": "completed"
    },
    "tags": []
   },
   "outputs": [
    {
     "name": "stdout",
     "output_type": "stream",
     "text": [
      "intercept (m):  -226852894.2452951\n",
      "coef (b) of each independent variable:  [36995789.50982447]\n",
      "RScore. (r)  0.008873064619353443\n",
      "MAE: 72377709.72108367\n"
     ]
    }
   ],
   "source": [
    "#Changing the Data into pd dataframes, so they can be converted to numpy arrays\n",
    "data = {'ratings': ratingstocompare,\n",
    "       'gross': clean_data,\n",
    "        'metascore': meta_score\n",
    "       }\n",
    "\n",
    "df = pd.DataFrame(data)\n",
    "#Turning the data into numpy arrays and reshaping them for linear regression\n",
    "X = df[['ratings', 'metascore']].values.reshape(-1,1)\n",
    "y = df['gross'].values.reshape(-1,1)\n",
    "#splitting the data and using the data to predict the line of best fit\n",
    "#X_train, X_test, y_train, y_test = train_test_split(X,y,test_size=0.5,random_state=1)\n",
    "lin_reg = LinearRegression()\n",
    "model = lin_reg.fit(X_train,y_train)\n",
    "predictions = lin_reg.predict(X_test)\n",
    "#printing the results\n",
    "print(\"intercept (m): \", model.intercept_)\n",
    "print(\"coef (b) of each independent variable: \", model.coef_)\n",
    "print(\"RScore. (r) \", model.score(X_test,y_test))\n",
    "\n",
    "\n",
    "print(\"MAE:\", metrics.mean_absolute_error(y_test, predictions))"
   ]
  }
 ],
 "metadata": {
  "kernelspec": {
   "display_name": "Python 3 (ipykernel)",
   "language": "python",
   "name": "python3"
  },
  "language_info": {
   "codemirror_mode": {
    "name": "ipython",
    "version": 3
   },
   "file_extension": ".py",
   "mimetype": "text/x-python",
   "name": "python",
   "nbconvert_exporter": "python",
   "pygments_lexer": "ipython3",
   "version": "3.10.2"
  },
  "papermill": {
   "default_parameters": {},
   "duration": 12.813247,
   "end_time": "2023-01-12T19:31:11.381005",
   "environment_variables": {},
   "exception": null,
   "input_path": "__notebook__.ipynb",
   "output_path": "__notebook__.ipynb",
   "parameters": {},
   "start_time": "2023-01-12T19:30:58.567758",
   "version": "2.3.4"
  }
 },
 "nbformat": 4,
 "nbformat_minor": 5
}
