{
 "cells": [
  {
   "cell_type": "code",
   "execution_count": 1,
   "metadata": {
    "_cell_guid": "b1076dfc-b9ad-4769-8c92-a6c4dae69d19",
    "_uuid": "8f2839f25d086af736a60e9eeb907d3b93b6e0e5",
    "execution": {
     "iopub.execute_input": "2023-04-18T15:10:55.321863Z",
     "iopub.status.busy": "2023-04-18T15:10:55.321153Z",
     "iopub.status.idle": "2023-04-18T15:10:56.327926Z",
     "shell.execute_reply": "2023-04-18T15:10:56.328536Z",
     "shell.execute_reply.started": "2023-04-18T15:08:54.493029Z"
    },
    "papermill": {
     "duration": 1.029963,
     "end_time": "2023-04-18T15:10:56.328748",
     "exception": false,
     "start_time": "2023-04-18T15:10:55.298785",
     "status": "completed"
    },
    "tags": []
   },
   "outputs": [],
   "source": [
    "import pandas as pd\n",
    "import numpy as np\n",
    "import matplotlib.pyplot as plt \n",
    "import seaborn as sns\n",
    "from scipy.spatial.distance import cdist"
   ]
  },
  {
   "cell_type": "code",
   "execution_count": 2,
   "metadata": {
    "execution": {
     "iopub.execute_input": "2023-04-18T15:10:56.366441Z",
     "iopub.status.busy": "2023-04-18T15:10:56.365770Z",
     "iopub.status.idle": "2023-04-18T15:10:56.368658Z",
     "shell.execute_reply": "2023-04-18T15:10:56.368146Z",
     "shell.execute_reply.started": "2023-04-18T15:08:56.612897Z"
    },
    "papermill": {
     "duration": 0.023464,
     "end_time": "2023-04-18T15:10:56.368781",
     "exception": false,
     "start_time": "2023-04-18T15:10:56.345317",
     "status": "completed"
    },
    "tags": []
   },
   "outputs": [],
   "source": [
    "K = 3"
   ]
  },
  {
   "cell_type": "code",
   "execution_count": 3,
   "metadata": {
    "_cell_guid": "79c7e3d0-c299-4dcb-8224-4455121ee9b0",
    "_uuid": "d629ff2d2480ee46fbb7e2d37f6b5fab8052498a",
    "execution": {
     "iopub.execute_input": "2023-04-18T15:10:56.405441Z",
     "iopub.status.busy": "2023-04-18T15:10:56.404705Z",
     "iopub.status.idle": "2023-04-18T15:10:56.427616Z",
     "shell.execute_reply": "2023-04-18T15:10:56.426999Z",
     "shell.execute_reply.started": "2023-04-18T15:08:58.172891Z"
    },
    "papermill": {
     "duration": 0.042732,
     "end_time": "2023-04-18T15:10:56.427749",
     "exception": false,
     "start_time": "2023-04-18T15:10:56.385017",
     "status": "completed"
    },
    "tags": []
   },
   "outputs": [],
   "source": [
    "iris = pd.read_csv(\"../input/iris-flower-dataset/IRIS.csv\")"
   ]
  },
  {
   "cell_type": "code",
   "execution_count": 4,
   "metadata": {
    "execution": {
     "iopub.execute_input": "2023-04-18T15:10:56.475415Z",
     "iopub.status.busy": "2023-04-18T15:10:56.474701Z",
     "iopub.status.idle": "2023-04-18T15:10:56.482869Z",
     "shell.execute_reply": "2023-04-18T15:10:56.483440Z",
     "shell.execute_reply.started": "2023-04-18T15:09:00.873564Z"
    },
    "papermill": {
     "duration": 0.039631,
     "end_time": "2023-04-18T15:10:56.483588",
     "exception": false,
     "start_time": "2023-04-18T15:10:56.443957",
     "status": "completed"
    },
    "tags": []
   },
   "outputs": [
    {
     "data": {
      "text/html": [
       "<div>\n",
       "<style scoped>\n",
       "    .dataframe tbody tr th:only-of-type {\n",
       "        vertical-align: middle;\n",
       "    }\n",
       "\n",
       "    .dataframe tbody tr th {\n",
       "        vertical-align: top;\n",
       "    }\n",
       "\n",
       "    .dataframe thead th {\n",
       "        text-align: right;\n",
       "    }\n",
       "</style>\n",
       "<table border=\"1\" class=\"dataframe\">\n",
       "  <thead>\n",
       "    <tr style=\"text-align: right;\">\n",
       "      <th></th>\n",
       "      <th>sepal_length</th>\n",
       "      <th>sepal_width</th>\n",
       "      <th>petal_length</th>\n",
       "      <th>petal_width</th>\n",
       "      <th>species</th>\n",
       "    </tr>\n",
       "  </thead>\n",
       "  <tbody>\n",
       "    <tr>\n",
       "      <th>0</th>\n",
       "      <td>5.1</td>\n",
       "      <td>3.5</td>\n",
       "      <td>1.4</td>\n",
       "      <td>0.2</td>\n",
       "      <td>Iris-setosa</td>\n",
       "    </tr>\n",
       "    <tr>\n",
       "      <th>1</th>\n",
       "      <td>4.9</td>\n",
       "      <td>3.0</td>\n",
       "      <td>1.4</td>\n",
       "      <td>0.2</td>\n",
       "      <td>Iris-setosa</td>\n",
       "    </tr>\n",
       "    <tr>\n",
       "      <th>2</th>\n",
       "      <td>4.7</td>\n",
       "      <td>3.2</td>\n",
       "      <td>1.3</td>\n",
       "      <td>0.2</td>\n",
       "      <td>Iris-setosa</td>\n",
       "    </tr>\n",
       "    <tr>\n",
       "      <th>3</th>\n",
       "      <td>4.6</td>\n",
       "      <td>3.1</td>\n",
       "      <td>1.5</td>\n",
       "      <td>0.2</td>\n",
       "      <td>Iris-setosa</td>\n",
       "    </tr>\n",
       "    <tr>\n",
       "      <th>4</th>\n",
       "      <td>5.0</td>\n",
       "      <td>3.6</td>\n",
       "      <td>1.4</td>\n",
       "      <td>0.2</td>\n",
       "      <td>Iris-setosa</td>\n",
       "    </tr>\n",
       "  </tbody>\n",
       "</table>\n",
       "</div>"
      ],
      "text/plain": [
       "   sepal_length  sepal_width  petal_length  petal_width      species\n",
       "0           5.1          3.5           1.4          0.2  Iris-setosa\n",
       "1           4.9          3.0           1.4          0.2  Iris-setosa\n",
       "2           4.7          3.2           1.3          0.2  Iris-setosa\n",
       "3           4.6          3.1           1.5          0.2  Iris-setosa\n",
       "4           5.0          3.6           1.4          0.2  Iris-setosa"
      ]
     },
     "execution_count": 4,
     "metadata": {},
     "output_type": "execute_result"
    }
   ],
   "source": [
    "iris.head()"
   ]
  },
  {
   "cell_type": "code",
   "execution_count": 5,
   "metadata": {
    "execution": {
     "iopub.execute_input": "2023-04-18T15:10:56.520846Z",
     "iopub.status.busy": "2023-04-18T15:10:56.520150Z",
     "iopub.status.idle": "2023-04-18T15:10:56.531749Z",
     "shell.execute_reply": "2023-04-18T15:10:56.531039Z",
     "shell.execute_reply.started": "2023-04-18T15:09:03.071028Z"
    },
    "papermill": {
     "duration": 0.031144,
     "end_time": "2023-04-18T15:10:56.531876",
     "exception": false,
     "start_time": "2023-04-18T15:10:56.500732",
     "status": "completed"
    },
    "tags": []
   },
   "outputs": [],
   "source": [
    "data_features = pd.DataFrame(data=iris, columns= ['sepal_length','sepal_width','petal_length','petal_width'])"
   ]
  },
  {
   "cell_type": "code",
   "execution_count": 6,
   "metadata": {
    "execution": {
     "iopub.execute_input": "2023-04-18T15:10:56.580130Z",
     "iopub.status.busy": "2023-04-18T15:10:56.579419Z",
     "iopub.status.idle": "2023-04-18T15:10:56.582396Z",
     "shell.execute_reply": "2023-04-18T15:10:56.582892Z",
     "shell.execute_reply.started": "2023-04-18T15:09:05.110090Z"
    },
    "papermill": {
     "duration": 0.034207,
     "end_time": "2023-04-18T15:10:56.583059",
     "exception": false,
     "start_time": "2023-04-18T15:10:56.548852",
     "status": "completed"
    },
    "tags": []
   },
   "outputs": [
    {
     "data": {
      "text/html": [
       "<div>\n",
       "<style scoped>\n",
       "    .dataframe tbody tr th:only-of-type {\n",
       "        vertical-align: middle;\n",
       "    }\n",
       "\n",
       "    .dataframe tbody tr th {\n",
       "        vertical-align: top;\n",
       "    }\n",
       "\n",
       "    .dataframe thead th {\n",
       "        text-align: right;\n",
       "    }\n",
       "</style>\n",
       "<table border=\"1\" class=\"dataframe\">\n",
       "  <thead>\n",
       "    <tr style=\"text-align: right;\">\n",
       "      <th></th>\n",
       "      <th>sepal_length</th>\n",
       "      <th>sepal_width</th>\n",
       "      <th>petal_length</th>\n",
       "      <th>petal_width</th>\n",
       "    </tr>\n",
       "  </thead>\n",
       "  <tbody>\n",
       "    <tr>\n",
       "      <th>0</th>\n",
       "      <td>5.1</td>\n",
       "      <td>3.5</td>\n",
       "      <td>1.4</td>\n",
       "      <td>0.2</td>\n",
       "    </tr>\n",
       "    <tr>\n",
       "      <th>1</th>\n",
       "      <td>4.9</td>\n",
       "      <td>3.0</td>\n",
       "      <td>1.4</td>\n",
       "      <td>0.2</td>\n",
       "    </tr>\n",
       "    <tr>\n",
       "      <th>2</th>\n",
       "      <td>4.7</td>\n",
       "      <td>3.2</td>\n",
       "      <td>1.3</td>\n",
       "      <td>0.2</td>\n",
       "    </tr>\n",
       "    <tr>\n",
       "      <th>3</th>\n",
       "      <td>4.6</td>\n",
       "      <td>3.1</td>\n",
       "      <td>1.5</td>\n",
       "      <td>0.2</td>\n",
       "    </tr>\n",
       "    <tr>\n",
       "      <th>4</th>\n",
       "      <td>5.0</td>\n",
       "      <td>3.6</td>\n",
       "      <td>1.4</td>\n",
       "      <td>0.2</td>\n",
       "    </tr>\n",
       "    <tr>\n",
       "      <th>...</th>\n",
       "      <td>...</td>\n",
       "      <td>...</td>\n",
       "      <td>...</td>\n",
       "      <td>...</td>\n",
       "    </tr>\n",
       "    <tr>\n",
       "      <th>145</th>\n",
       "      <td>6.7</td>\n",
       "      <td>3.0</td>\n",
       "      <td>5.2</td>\n",
       "      <td>2.3</td>\n",
       "    </tr>\n",
       "    <tr>\n",
       "      <th>146</th>\n",
       "      <td>6.3</td>\n",
       "      <td>2.5</td>\n",
       "      <td>5.0</td>\n",
       "      <td>1.9</td>\n",
       "    </tr>\n",
       "    <tr>\n",
       "      <th>147</th>\n",
       "      <td>6.5</td>\n",
       "      <td>3.0</td>\n",
       "      <td>5.2</td>\n",
       "      <td>2.0</td>\n",
       "    </tr>\n",
       "    <tr>\n",
       "      <th>148</th>\n",
       "      <td>6.2</td>\n",
       "      <td>3.4</td>\n",
       "      <td>5.4</td>\n",
       "      <td>2.3</td>\n",
       "    </tr>\n",
       "    <tr>\n",
       "      <th>149</th>\n",
       "      <td>5.9</td>\n",
       "      <td>3.0</td>\n",
       "      <td>5.1</td>\n",
       "      <td>1.8</td>\n",
       "    </tr>\n",
       "  </tbody>\n",
       "</table>\n",
       "<p>150 rows × 4 columns</p>\n",
       "</div>"
      ],
      "text/plain": [
       "     sepal_length  sepal_width  petal_length  petal_width\n",
       "0             5.1          3.5           1.4          0.2\n",
       "1             4.9          3.0           1.4          0.2\n",
       "2             4.7          3.2           1.3          0.2\n",
       "3             4.6          3.1           1.5          0.2\n",
       "4             5.0          3.6           1.4          0.2\n",
       "..            ...          ...           ...          ...\n",
       "145           6.7          3.0           5.2          2.3\n",
       "146           6.3          2.5           5.0          1.9\n",
       "147           6.5          3.0           5.2          2.0\n",
       "148           6.2          3.4           5.4          2.3\n",
       "149           5.9          3.0           5.1          1.8\n",
       "\n",
       "[150 rows x 4 columns]"
      ]
     },
     "execution_count": 6,
     "metadata": {},
     "output_type": "execute_result"
    }
   ],
   "source": [
    "data_features"
   ]
  },
  {
   "cell_type": "code",
   "execution_count": 7,
   "metadata": {
    "execution": {
     "iopub.execute_input": "2023-04-18T15:10:56.623598Z",
     "iopub.status.busy": "2023-04-18T15:10:56.622881Z",
     "iopub.status.idle": "2023-04-18T15:10:56.626179Z",
     "shell.execute_reply": "2023-04-18T15:10:56.625513Z",
     "shell.execute_reply.started": "2023-04-18T15:09:08.407970Z"
    },
    "papermill": {
     "duration": 0.026284,
     "end_time": "2023-04-18T15:10:56.626301",
     "exception": false,
     "start_time": "2023-04-18T15:10:56.600017",
     "status": "completed"
    },
    "tags": []
   },
   "outputs": [],
   "source": [
    "data_target = iris['species']"
   ]
  },
  {
   "cell_type": "code",
   "execution_count": 8,
   "metadata": {
    "execution": {
     "iopub.execute_input": "2023-04-18T15:10:56.667405Z",
     "iopub.status.busy": "2023-04-18T15:10:56.666527Z",
     "iopub.status.idle": "2023-04-18T15:10:56.670588Z",
     "shell.execute_reply": "2023-04-18T15:10:56.671199Z",
     "shell.execute_reply.started": "2023-04-18T15:09:10.392103Z"
    },
    "papermill": {
     "duration": 0.027812,
     "end_time": "2023-04-18T15:10:56.671353",
     "exception": false,
     "start_time": "2023-04-18T15:10:56.643541",
     "status": "completed"
    },
    "tags": []
   },
   "outputs": [
    {
     "data": {
      "text/plain": [
       "0    Iris-setosa\n",
       "1    Iris-setosa\n",
       "2    Iris-setosa\n",
       "3    Iris-setosa\n",
       "4    Iris-setosa\n",
       "Name: species, dtype: object"
      ]
     },
     "execution_count": 8,
     "metadata": {},
     "output_type": "execute_result"
    }
   ],
   "source": [
    "data_target.head()"
   ]
  },
  {
   "cell_type": "code",
   "execution_count": 9,
   "metadata": {
    "execution": {
     "iopub.execute_input": "2023-04-18T15:10:56.709809Z",
     "iopub.status.busy": "2023-04-18T15:10:56.708800Z",
     "iopub.status.idle": "2023-04-18T15:10:56.724354Z",
     "shell.execute_reply": "2023-04-18T15:10:56.724855Z",
     "shell.execute_reply.started": "2023-04-18T15:09:26.991755Z"
    },
    "papermill": {
     "duration": 0.03629,
     "end_time": "2023-04-18T15:10:56.725023",
     "exception": false,
     "start_time": "2023-04-18T15:10:56.688733",
     "status": "completed"
    },
    "tags": []
   },
   "outputs": [
    {
     "data": {
      "text/plain": [
       "array([0, 0, 0, 0, 0, 0, 0, 0, 0, 0, 0, 0, 0, 0, 0, 0, 0, 0, 0, 0, 0, 0,\n",
       "       0, 0, 0, 0, 0, 0, 0, 0, 0, 0, 0, 0, 0, 0, 0, 0, 0, 0, 0, 0, 0, 0,\n",
       "       0, 0, 0, 0, 0, 0, 1, 1, 1, 1, 1, 1, 1, 1, 1, 1, 1, 1, 1, 1, 1, 1,\n",
       "       1, 1, 1, 1, 1, 1, 1, 1, 1, 1, 1, 1, 1, 1, 1, 1, 1, 1, 1, 1, 1, 1,\n",
       "       1, 1, 1, 1, 1, 1, 1, 1, 1, 1, 1, 1, 2, 2, 2, 2, 2, 2, 2, 2, 2, 2,\n",
       "       2, 2, 2, 2, 2, 2, 2, 2, 2, 2, 2, 2, 2, 2, 2, 2, 2, 2, 2, 2, 2, 2,\n",
       "       2, 2, 2, 2, 2, 2, 2, 2, 2, 2, 2, 2, 2, 2, 2, 2, 2, 2])"
      ]
     },
     "execution_count": 9,
     "metadata": {},
     "output_type": "execute_result"
    }
   ],
   "source": [
    "labels = []\n",
    "for i in range(len(data_target)):\n",
    "    if data_target[i] =='Iris-setosa':\n",
    "        labels.append(0)\n",
    "    elif data_target[i] =='Iris-versicolor':\n",
    "        labels.append(1)\n",
    "    elif data_target[i] =='Iris-virginica':\n",
    "        labels.append(2)\n",
    "labels_int = np.array(labels, dtype = int)\n",
    "labels_int"
   ]
  },
  {
   "cell_type": "code",
   "execution_count": 10,
   "metadata": {
    "execution": {
     "iopub.execute_input": "2023-04-18T15:10:56.763591Z",
     "iopub.status.busy": "2023-04-18T15:10:56.762890Z",
     "iopub.status.idle": "2023-04-18T15:10:56.974968Z",
     "shell.execute_reply": "2023-04-18T15:10:56.973876Z",
     "shell.execute_reply.started": "2023-04-18T15:09:31.785957Z"
    },
    "papermill": {
     "duration": 0.232423,
     "end_time": "2023-04-18T15:10:56.975124",
     "exception": false,
     "start_time": "2023-04-18T15:10:56.742701",
     "status": "completed"
    },
    "tags": []
   },
   "outputs": [
    {
     "data": {
      "image/png": "[encoded data removed]",
      "text/plain": [
       "<Figure size 432x288 with 1 Axes>"
      ]
     },
     "metadata": {
      "needs_background": "light"
     },
     "output_type": "display_data"
    }
   ],
   "source": [
    "def kmeans_display(X, labels):\n",
    "    X0 = X[labels == 0, :]\n",
    "    X1 = X[labels == 1, :]\n",
    "    X2 = X[labels == 2, :]\n",
    "    \n",
    "    plt.plot(X0[:, 0], X0[:, 1], 'b^', markersize = 4, alpha = .8)\n",
    "    plt.plot(X1[:, 0], X1[:, 1], 'go', markersize = 4, alpha = .8)\n",
    "    plt.plot(X2[:, 0], X2[:, 1], 'rs', markersize = 4, alpha = .8)\n",
    "\n",
    "    plt.axis('equal')\n",
    "    plt.plot()\n",
    "    plt.show()\n",
    "    \n",
    "kmeans_display(data_features.to_numpy(),labels_int)"
   ]
  },
  {
   "cell_type": "markdown",
   "metadata": {
    "papermill": {
     "duration": 0.018003,
     "end_time": "2023-04-18T15:10:57.011794",
     "exception": false,
     "start_time": "2023-04-18T15:10:56.993791",
     "status": "completed"
    },
    "tags": []
   },
   "source": [
    "Hàm khởi tạo các centers ban đầu****"
   ]
  },
  {
   "cell_type": "code",
   "execution_count": 11,
   "metadata": {
    "execution": {
     "iopub.execute_input": "2023-04-18T15:10:57.055256Z",
     "iopub.status.busy": "2023-04-18T15:10:57.054420Z",
     "iopub.status.idle": "2023-04-18T15:10:57.058774Z",
     "shell.execute_reply": "2023-04-18T15:10:57.059361Z",
     "shell.execute_reply.started": "2023-04-18T15:09:45.137580Z"
    },
    "papermill": {
     "duration": 0.027329,
     "end_time": "2023-04-18T15:10:57.059524",
     "exception": false,
     "start_time": "2023-04-18T15:10:57.032195",
     "status": "completed"
    },
    "tags": []
   },
   "outputs": [],
   "source": [
    "def kmeans_init_centers(X, k):\n",
    "    # randomly pick k rows of X as initial centers\n",
    "    return X[np.random.choice(X.shape[0], k, replace=False)]"
   ]
  },
  {
   "cell_type": "markdown",
   "metadata": {
    "papermill": {
     "duration": 0.018083,
     "end_time": "2023-04-18T15:10:57.096122",
     "exception": false,
     "start_time": "2023-04-18T15:10:57.078039",
     "status": "completed"
    },
    "tags": []
   },
   "source": [
    "Hàm gán nhán mới cho các điểm khi biết các centers."
   ]
  },
  {
   "cell_type": "code",
   "execution_count": 12,
   "metadata": {
    "execution": {
     "iopub.execute_input": "2023-04-18T15:10:57.138536Z",
     "iopub.status.busy": "2023-04-18T15:10:57.137799Z",
     "iopub.status.idle": "2023-04-18T15:10:57.139859Z",
     "shell.execute_reply": "2023-04-18T15:10:57.140420Z",
     "shell.execute_reply.started": "2023-04-18T15:09:47.037007Z"
    },
    "papermill": {
     "duration": 0.026348,
     "end_time": "2023-04-18T15:10:57.140575",
     "exception": false,
     "start_time": "2023-04-18T15:10:57.114227",
     "status": "completed"
    },
    "tags": []
   },
   "outputs": [],
   "source": [
    "def kmeans_assign_labels(X, centers):\n",
    "    # calculate pairwise distances btw data and centers\n",
    "    D = cdist(X, centers)\n",
    "    # return index of the closest center\n",
    "    return np.argmin(D, axis = 1)\n",
    "    "
   ]
  },
  {
   "cell_type": "markdown",
   "metadata": {
    "papermill": {
     "duration": 0.018072,
     "end_time": "2023-04-18T15:10:57.177790",
     "exception": false,
     "start_time": "2023-04-18T15:10:57.159718",
     "status": "completed"
    },
    "tags": []
   },
   "source": [
    "Hàm cập nhật các centers mới dữa trên dữ liệu vừa được gán nhãn."
   ]
  },
  {
   "cell_type": "code",
   "execution_count": 13,
   "metadata": {
    "execution": {
     "iopub.execute_input": "2023-04-18T15:10:57.221635Z",
     "iopub.status.busy": "2023-04-18T15:10:57.220783Z",
     "iopub.status.idle": "2023-04-18T15:10:57.223572Z",
     "shell.execute_reply": "2023-04-18T15:10:57.224081Z",
     "shell.execute_reply.started": "2023-04-18T15:09:48.658500Z"
    },
    "papermill": {
     "duration": 0.028158,
     "end_time": "2023-04-18T15:10:57.224264",
     "exception": false,
     "start_time": "2023-04-18T15:10:57.196106",
     "status": "completed"
    },
    "tags": []
   },
   "outputs": [],
   "source": [
    "def kmeans_update_centers(X, labels, K):\n",
    "    centers = np.zeros((K, X.shape[1]))\n",
    "    for k in range(K):\n",
    "        # collect all points assigned to the k-th cluster \n",
    "        Xk = X[labels == k, :]\n",
    "        # take average\n",
    "        centers[k,:] = np.mean(Xk, axis = 0)\n",
    "    return centers"
   ]
  },
  {
   "cell_type": "markdown",
   "metadata": {
    "papermill": {
     "duration": 0.018618,
     "end_time": "2023-04-18T15:10:57.261615",
     "exception": false,
     "start_time": "2023-04-18T15:10:57.242997",
     "status": "completed"
    },
    "tags": []
   },
   "source": [
    "Hàm kiểm tra điều kiện dừng của thuật toán."
   ]
  },
  {
   "cell_type": "code",
   "execution_count": 14,
   "metadata": {
    "execution": {
     "iopub.execute_input": "2023-04-18T15:10:57.302023Z",
     "iopub.status.busy": "2023-04-18T15:10:57.301339Z",
     "iopub.status.idle": "2023-04-18T15:10:57.306020Z",
     "shell.execute_reply": "2023-04-18T15:10:57.306518Z",
     "shell.execute_reply.started": "2023-04-18T15:09:50.530880Z"
    },
    "papermill": {
     "duration": 0.026618,
     "end_time": "2023-04-18T15:10:57.306681",
     "exception": false,
     "start_time": "2023-04-18T15:10:57.280063",
     "status": "completed"
    },
    "tags": []
   },
   "outputs": [],
   "source": [
    "def has_converged(centers, new_centers):\n",
    "    # return True if two sets of centers are the same\n",
    "    return (set([tuple(a) for a in centers]) == \n",
    "        set([tuple(a) for a in new_centers]))"
   ]
  },
  {
   "cell_type": "code",
   "execution_count": 15,
   "metadata": {
    "execution": {
     "iopub.execute_input": "2023-04-18T15:10:57.347060Z",
     "iopub.status.busy": "2023-04-18T15:10:57.346335Z",
     "iopub.status.idle": "2023-04-18T15:10:57.353171Z",
     "shell.execute_reply": "2023-04-18T15:10:57.353707Z",
     "shell.execute_reply.started": "2023-04-18T15:09:52.407091Z"
    },
    "papermill": {
     "duration": 0.028505,
     "end_time": "2023-04-18T15:10:57.353863",
     "exception": false,
     "start_time": "2023-04-18T15:10:57.325358",
     "status": "completed"
    },
    "tags": []
   },
   "outputs": [],
   "source": [
    "def kmeans(X, K):\n",
    "    centers = [kmeans_init_centers(X, K)]\n",
    "    labels = []\n",
    "    it = 0 \n",
    "    while True:\n",
    "        labels.append(kmeans_assign_labels(X, centers[-1]))\n",
    "        new_centers = kmeans_update_centers(X, labels[-1], K)\n",
    "        if has_converged(centers[-1], new_centers):\n",
    "            break\n",
    "        centers.append(new_centers)\n",
    "        it += 1\n",
    "    return (centers, labels, it)"
   ]
  },
  {
   "cell_type": "code",
   "execution_count": 16,
   "metadata": {
    "execution": {
     "iopub.execute_input": "2023-04-18T15:10:57.394062Z",
     "iopub.status.busy": "2023-04-18T15:10:57.393380Z",
     "iopub.status.idle": "2023-04-18T15:10:57.397201Z",
     "shell.execute_reply": "2023-04-18T15:10:57.397680Z",
     "shell.execute_reply.started": "2023-04-18T15:09:54.973821Z"
    },
    "papermill": {
     "duration": 0.025576,
     "end_time": "2023-04-18T15:10:57.397836",
     "exception": false,
     "start_time": "2023-04-18T15:10:57.372260",
     "status": "completed"
    },
    "tags": []
   },
   "outputs": [],
   "source": [
    "X = data_features.to_numpy()"
   ]
  },
  {
   "cell_type": "code",
   "execution_count": 17,
   "metadata": {
    "execution": {
     "iopub.execute_input": "2023-04-18T15:10:57.438248Z",
     "iopub.status.busy": "2023-04-18T15:10:57.437546Z",
     "iopub.status.idle": "2023-04-18T15:10:57.590866Z",
     "shell.execute_reply": "2023-04-18T15:10:57.590188Z",
     "shell.execute_reply.started": "2023-04-18T15:09:57.142769Z"
    },
    "papermill": {
     "duration": 0.174469,
     "end_time": "2023-04-18T15:10:57.591032",
     "exception": false,
     "start_time": "2023-04-18T15:10:57.416563",
     "status": "completed"
    },
    "tags": []
   },
   "outputs": [
    {
     "name": "stdout",
     "output_type": "stream",
     "text": [
      "Centers found by our algorithm:\n",
      "[[4.74166667 2.95416667 1.75416667 0.32916667]\n",
      " [5.21666667 3.64       1.47333333 0.28      ]\n",
      " [6.31458333 2.89583333 4.97395833 1.703125  ]]\n"
     ]
    },
    {
     "data": {
      "image/png": "[encoded data removed]",
      "text/plain": [
       "<Figure size 432x288 with 1 Axes>"
      ]
     },
     "metadata": {
      "needs_background": "light"
     },
     "output_type": "display_data"
    }
   ],
   "source": [
    "(centers, labels, it) = kmeans(X, K)\n",
    "print('Centers found by our algorithm:')\n",
    "print(centers[-1])\n",
    "\n",
    "kmeans_display(X, labels[-1])"
   ]
  },
  {
   "cell_type": "code",
   "execution_count": 18,
   "metadata": {
    "execution": {
     "iopub.execute_input": "2023-04-18T15:10:57.636871Z",
     "iopub.status.busy": "2023-04-18T15:10:57.636014Z",
     "iopub.status.idle": "2023-04-18T15:10:58.187640Z",
     "shell.execute_reply": "2023-04-18T15:10:58.186970Z",
     "shell.execute_reply.started": "2023-04-18T15:10:11.639086Z"
    },
    "papermill": {
     "duration": 0.577144,
     "end_time": "2023-04-18T15:10:58.187770",
     "exception": false,
     "start_time": "2023-04-18T15:10:57.610626",
     "status": "completed"
    },
    "tags": []
   },
   "outputs": [
    {
     "name": "stdout",
     "output_type": "stream",
     "text": [
      "Centers found by scikit-learn:\n",
      "[[6.85       3.07368421 5.74210526 2.07105263]\n",
      " [5.006      3.418      1.464      0.244     ]\n",
      " [5.9016129  2.7483871  4.39354839 1.43387097]]\n"
     ]
    },
    {
     "data": {
      "image/png": "[encoded data removed]",
      "text/plain": [
       "<Figure size 432x288 with 1 Axes>"
      ]
     },
     "metadata": {
      "needs_background": "light"
     },
     "output_type": "display_data"
    }
   ],
   "source": [
    "from sklearn.cluster import KMeans\n",
    "kmeans = KMeans(n_clusters=3, random_state=0).fit(X)\n",
    "print('Centers found by scikit-learn:')\n",
    "print(kmeans.cluster_centers_)\n",
    "pred_label = kmeans.predict(X)\n",
    "kmeans_display(X, pred_label)"
   ]
  }
 ],
 "metadata": {
  "kernelspec": {
   "display_name": "Python 3 (ipykernel)",
   "language": "python",
   "name": "python3"
  },
  "language_info": {
   "codemirror_mode": {
    "name": "ipython",
    "version": 3
   },
   "file_extension": ".py",
   "mimetype": "text/x-python",
   "name": "python",
   "nbconvert_exporter": "python",
   "pygments_lexer": "ipython3",
   "version": "3.10.2"
  },
  "papermill": {
   "duration": 7.725286,
   "end_time": "2023-04-18T15:10:58.317548",
   "environment_variables": {},
   "exception": null,
   "input_path": "__notebook__.ipynb",
   "output_path": "__notebook__.ipynb",
   "parameters": {},
   "start_time": "2023-04-18T15:10:50.592262",
   "version": "2.1.0"
  }
 },
 "nbformat": 4,
 "nbformat_minor": 4
}
